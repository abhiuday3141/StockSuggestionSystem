{
 "cells": [
  {
   "cell_type": "code",
   "execution_count": 1,
   "id": "060a127d",
   "metadata": {},
   "outputs": [],
   "source": [
    "import pandas as pd\n",
    "import numpy as np\n",
    "import seaborn as sns\n",
    "import matplotlib.pyplot as plt\n",
    "from pandas_datareader import data, wb\n",
    "import datetime\n",
    "from datetime import date, timedelta\n",
    "import math\n",
    "from sklearn.metrics import mean_squared_error \n",
    "%matplotlib inline"
   ]
  },
  {
   "cell_type": "code",
   "execution_count": 2,
   "id": "daab755f",
   "metadata": {},
   "outputs": [],
   "source": [
    "start = datetime.datetime(2010, 1, 1)\n",
    "end = datetime.datetime(2020, 1, 1)"
   ]
  },
  {
   "cell_type": "code",
   "execution_count": 3,
   "id": "bc73a974",
   "metadata": {},
   "outputs": [],
   "source": [
    "bank=\"C\"\n",
    "stocks = data.DataReader(bank, 'yahoo', start, end)\n",
    "colname='Open'"
   ]
  },
  {
   "cell_type": "code",
   "execution_count": 4,
   "id": "08b05ab0",
   "metadata": {},
   "outputs": [],
   "source": [
    "df=stocks.reset_index()[colname]"
   ]
  },
  {
   "cell_type": "code",
   "execution_count": 5,
   "id": "ed7a383b",
   "metadata": {},
   "outputs": [],
   "source": [
    "from sklearn.preprocessing import MinMaxScaler\n",
    "scaler=MinMaxScaler(feature_range=(0,1))\n",
    "df=scaler.fit_transform(np.array(df).reshape(-1,1))"
   ]
  },
  {
   "cell_type": "code",
   "execution_count": 6,
   "id": "aa512225",
   "metadata": {},
   "outputs": [],
   "source": [
    "train_size=int(len(df)*0.70)\n",
    "test_size=len(df)-train_size\n",
    "train_data=df[0:train_size]\n",
    "test_data=df[train_size:]"
   ]
  },
  {
   "cell_type": "code",
   "execution_count": 7,
   "id": "37a573f6",
   "metadata": {},
   "outputs": [],
   "source": [
    "def make_dataset(data,timestep):\n",
    "    X=[]\n",
    "    y=[]\n",
    "    n=len(data)\n",
    "    for i in range(0,n-timestep-1):\n",
    "        X.append(data[i:i+timestep])\n",
    "        y.append(data[i+timestep])\n",
    "    return np.array(X),np.array(y)"
   ]
  },
  {
   "cell_type": "code",
   "execution_count": 8,
   "id": "a35515d4",
   "metadata": {},
   "outputs": [],
   "source": [
    "def errorpercentage(y_test,pred):\n",
    "    mape=np.mean(np.abs(y_test-pred)/y_test*100)\n",
    "    return mape"
   ]
  },
  {
   "cell_type": "code",
   "execution_count": 9,
   "id": "5ef614f5",
   "metadata": {},
   "outputs": [],
   "source": [
    "from tensorflow.keras.models import Sequential\n",
    "from tensorflow.keras.layers import Dense\n",
    "from tensorflow.keras.layers import LSTM"
   ]
  },
  {
   "cell_type": "code",
   "execution_count": 10,
   "id": "d9314b68",
   "metadata": {},
   "outputs": [],
   "source": [
    "maxstep=26\n",
    "minstep=25\n",
    "final_timestep=minstep\n",
    "r=100\n",
    "ep=100\n",
    "results=np.zeros(maxstep)\n",
    "for timestep in range(minstep,maxstep):\n",
    "    X_train,y_train=make_dataset(train_data,timestep)\n",
    "    X_test,y_test=make_dataset(test_data,timestep)\n",
    "    X_train=X_train.reshape(X_train.shape[0],X_train.shape[1],1)\n",
    "    X_test=X_test.reshape(X_test.shape[0],X_test.shape[1],1)\n",
    "    model=Sequential()\n",
    "    model.add(LSTM(50,return_sequences=True,input_shape=(timestep,1)))\n",
    "    model.add(LSTM(50,return_sequences=True))\n",
    "    model.add(LSTM(50))\n",
    "    model.add(Dense(1))\n",
    "    model.compile(loss='mean_squared_error',optimizer='adam')\n",
    "    model.fit(X_train,y_train,validation_data=(X_test,y_test),epochs=ep,batch_size=40,verbose=0)\n",
    "    train_predict=model.predict(X_train)\n",
    "    test_predict=model.predict(X_test)\n",
    "    train_predict=scaler.inverse_transform(train_predict)\n",
    "    test_predict=scaler.inverse_transform(test_predict)\n",
    "    results[timestep]=mean_squared_error (scaler.inverse_transform(y_test),test_predict)"
   ]
  },
  {
   "cell_type": "code",
   "execution_count": 11,
   "id": "cf4fdd68",
   "metadata": {},
   "outputs": [],
   "source": [
    "def findmin(arr):\n",
    "    ans=100\n",
    "    idx=0\n",
    "    c=0\n",
    "    for i in arr:\n",
    "        if(i<ans and i!=0):\n",
    "            ans=i\n",
    "            idx=c\n",
    "        c=c+1\n",
    "    return (ans,idx)"
   ]
  },
  {
   "cell_type": "code",
   "execution_count": 12,
   "id": "b8efdb6f",
   "metadata": {},
   "outputs": [],
   "source": [
    "results=results.reshape(maxstep,1)"
   ]
  },
  {
   "cell_type": "code",
   "execution_count": 13,
   "id": "ab7fc386",
   "metadata": {},
   "outputs": [
    {
     "data": {
      "text/plain": [
       "array([[2.45112099]])"
      ]
     },
     "execution_count": 13,
     "metadata": {},
     "output_type": "execute_result"
    }
   ],
   "source": [
    "results[minstep:]\n"
   ]
  },
  {
   "cell_type": "code",
   "execution_count": 14,
   "id": "a62baf7b",
   "metadata": {},
   "outputs": [],
   "source": [
    "minimum_error,selectedstep=findmin(results)"
   ]
  },
  {
   "cell_type": "code",
   "execution_count": 15,
   "id": "49e6d311",
   "metadata": {},
   "outputs": [
    {
     "name": "stdout",
     "output_type": "stream",
     "text": [
      "minimum error obtained will be  2.451120991729202 and the optimum timestep is 25\n"
     ]
    }
   ],
   "source": [
    "print('minimum error obtained will be ',minimum_error[0],'and the optimum timestep is',selectedstep)"
   ]
  }
 ],
 "metadata": {
  "kernelspec": {
   "display_name": "Python 3",
   "language": "python",
   "name": "python3"
  },
  "language_info": {
   "codemirror_mode": {
    "name": "ipython",
    "version": 3
   },
   "file_extension": ".py",
   "mimetype": "text/x-python",
   "name": "python",
   "nbconvert_exporter": "python",
   "pygments_lexer": "ipython3",
   "version": "3.8.8"
  }
 },
 "nbformat": 4,
 "nbformat_minor": 5
}
