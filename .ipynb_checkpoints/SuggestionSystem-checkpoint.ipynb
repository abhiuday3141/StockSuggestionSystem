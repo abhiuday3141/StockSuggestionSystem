{
 "cells": [
  {
   "cell_type": "code",
   "execution_count": 71,
   "id": "9f9efdb8",
   "metadata": {},
   "outputs": [],
   "source": [
    "import pandas as pd\n",
    "import numpy as np\n",
    "from datetime import date, timedelta\n",
    "import datetime"
   ]
  },
  {
   "cell_type": "code",
   "execution_count": 32,
   "id": "5498c812",
   "metadata": {},
   "outputs": [],
   "source": [
    "banks={'C':[],'JPM':[],'MS':[]}"
   ]
  },
  {
   "cell_type": "code",
   "execution_count": 34,
   "id": "c90d792f",
   "metadata": {},
   "outputs": [],
   "source": [
    "for i in banks:\n",
    "    str=''\n",
    "    str=i+'Data'\n",
    "    df=pd.read_csv(str)\n",
    "    banks[i]=list(df['Close']-df['Open'])"
   ]
  },
  {
   "cell_type": "code",
   "execution_count": 149,
   "id": "236cbb94",
   "metadata": {},
   "outputs": [],
   "source": [
    "def findmax(banks,stocks=10,dailyamt=100):\n",
    "    l=15\n",
    "    result=[]\n",
    "    idx=0\n",
    "    for i in range(0,l):\n",
    "        topush=-100\n",
    "        bankname=''\n",
    "        for j in banks:\n",
    "            if topush*stocks<dailyamt and topush*stocks<banks[j][i]*stocks:\n",
    "                topush=banks[j][i]\n",
    "                bankname=j\n",
    "                idx=i\n",
    "        result.append((bankname,topush,i))\n",
    "    return result"
   ]
  },
  {
   "cell_type": "code",
   "execution_count": 65,
   "id": "d3a72044",
   "metadata": {},
   "outputs": [],
   "source": [
    "namelist={'C':'Citi Bank','JPM':'JP Morgan','MS':'Morgan Stanley'}"
   ]
  },
  {
   "cell_type": "code",
   "execution_count": 150,
   "id": "d747f465",
   "metadata": {},
   "outputs": [],
   "source": [
    "r=findmax(banks)"
   ]
  },
  {
   "cell_type": "code",
   "execution_count": 160,
   "id": "6a4886c1",
   "metadata": {},
   "outputs": [],
   "source": [
    "date = datetime.datetime(2020,1,7)\n",
    "start=datetime.datetime(2020,1,2)"
   ]
  },
  {
   "cell_type": "code",
   "execution_count": 161,
   "id": "3eacbc29",
   "metadata": {},
   "outputs": [],
   "source": [
    "days=(date-start).days\n",
    "datestring=date.strftime(\"%D\")"
   ]
  },
  {
   "cell_type": "code",
   "execution_count": 162,
   "id": "4cc7a9e1",
   "metadata": {},
   "outputs": [
    {
     "data": {
      "text/plain": [
       "'01/07/20'"
      ]
     },
     "execution_count": 162,
     "metadata": {},
     "output_type": "execute_result"
    }
   ],
   "source": [
    "datestring"
   ]
  },
  {
   "cell_type": "code",
   "execution_count": 163,
   "id": "b2942fdf",
   "metadata": {},
   "outputs": [],
   "source": [
    "name_of_bank=r[days-1][:1][0]"
   ]
  },
  {
   "cell_type": "code",
   "execution_count": 164,
   "id": "1c6ba84e",
   "metadata": {},
   "outputs": [],
   "source": [
    "df=pd.read_csv(name_of_bank+'Data')"
   ]
  },
  {
   "cell_type": "code",
   "execution_count": 165,
   "id": "7acd419e",
   "metadata": {},
   "outputs": [],
   "source": [
    "diff=r[days-1][1]\n",
    "index=r[days-1][2]"
   ]
  },
  {
   "cell_type": "code",
   "execution_count": 169,
   "id": "6489c143",
   "metadata": {},
   "outputs": [
    {
     "name": "stdout",
     "output_type": "stream",
     "text": [
      "At the date 01/07/20 you should buy stock for JP Morgan\n",
      "The above stock will provide 0.0010527313261340665 % return\n"
     ]
    }
   ],
   "source": [
    "percentreturn=diff/df['Open'][index]\n",
    "percentreturn=percentreturn*100\n",
    "if diff>0:\n",
    "    print('At the date',datestring,'you should buy stock for',namelist[name_of_bank])\n",
    "    print('The above stock will provide',percentreturn,'% return')\n",
    "else:\n",
    "    print('All the mentioned stocks give a negative return on the mentioned date')\n",
    "    "
   ]
  }
 ],
 "metadata": {
  "kernelspec": {
   "display_name": "Python 3",
   "language": "python",
   "name": "python3"
  },
  "language_info": {
   "codemirror_mode": {
    "name": "ipython",
    "version": 3
   },
   "file_extension": ".py",
   "mimetype": "text/x-python",
   "name": "python",
   "nbconvert_exporter": "python",
   "pygments_lexer": "ipython3",
   "version": "3.8.8"
  }
 },
 "nbformat": 4,
 "nbformat_minor": 5
}
